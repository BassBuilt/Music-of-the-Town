{
 "cells": [
  {
   "cell_type": "code",
   "execution_count": 2,
   "metadata": {},
   "outputs": [
    {
     "ename": "ModuleNotFoundError",
     "evalue": "No module named 'holoviews'",
     "output_type": "error",
     "traceback": [
      "\u001b[1;31m---------------------------------------------------------------------------\u001b[0m",
      "\u001b[1;31mModuleNotFoundError\u001b[0m                       Traceback (most recent call last)",
      "\u001b[1;32m<ipython-input-2-15f4225c18c5>\u001b[0m in \u001b[0;36m<module>\u001b[1;34m()\u001b[0m\n\u001b[0;32m      1\u001b[0m \u001b[1;32mimport\u001b[0m \u001b[0mtracery\u001b[0m\u001b[1;33m\u001b[0m\u001b[0m\n\u001b[0;32m      2\u001b[0m \u001b[1;32mfrom\u001b[0m \u001b[0mtracery\u001b[0m\u001b[1;33m.\u001b[0m\u001b[0mmodifiers\u001b[0m \u001b[1;32mimport\u001b[0m \u001b[0mbase_english\u001b[0m\u001b[1;33m\u001b[0m\u001b[0m\n\u001b[1;32m----> 3\u001b[1;33m \u001b[1;32mimport\u001b[0m \u001b[0mholoviews\u001b[0m\u001b[1;33m\u001b[0m\u001b[0m\n\u001b[0m",
      "\u001b[1;31mModuleNotFoundError\u001b[0m: No module named 'holoviews'"
     ]
    }
   ],
   "source": [
    "import tracery\n",
    "from tracery.modifiers import base_english\n",
    "import holoviews"
   ]
  },
  {
   "cell_type": "code",
   "execution_count": 62,
   "metadata": {},
   "outputs": [],
   "source": [
    "characters = [\"Mayank\", \"Chris\", \"Rohan\", \"Tom\"]\n",
    "character_adjectives = [\"a happy\", \"a jolly\", \"a kind\", \"an antisocial\", \"a reclusive\"]\n",
    "morning_activities = [\"brushes their teeth\", \"picks up the newspaper from the front door\", \"pours themself a cup of coffee\", \"makes breakfast\"]\n",
    "weathers = [\"rainy\", \"sunny\", \"cloudy\", \"warm\", \"cold\", \"hot\", \"freezing\"]\n",
    "news_sources = [\"TV\", \"newspaper\", \"weather forecast\"]\n",
    "activities = [\"said hey\", \"ignored #mainCharacter#\", \"greeted #mainCharacter#\", \"threatened #mainCharacter#\", \"asked #mainCharacter# out for lunch\"]\n",
    "relationships = [\"friends\", \"foes\", \"partners\", \"rivals\", \"strangers\", \"colleagues\", \"siblings\"]\n",
    "occupation_workplace = [(\"Barber\", \"Hair Salon\"), (\"Mechanic\", \"Garage\"), (\"Accountant\", \"Bank\"), (\"Professor\", \"College\"), (\"Chef\", \"Restaurant\")]\n",
    "rules_us = {\n",
    "  \"origin\": [\"[mainCharacter:#character#]#intro# #[#setOccupation#]episode# #conclusion#\"],\n",
    "  \"character\": characters,\n",
    "  \"intro\": [\"#mainCharacter# wakes up and #morningActivity#. #weatherDescription# #mainCharacterDescription#\"],\n",
    "  \"mainCharacterDescription\": [\"#mainCharacter# is #adjective# person.\"],\n",
    "  \"adjective\" : character_adjectives,\n",
    "  \"morningActivity\" : morning_activities,\n",
    "  \"weatherDescription\" :[\"The #newsSource# predicted that it's going to be #weather# today.\"],\n",
    "  \"weather\" : weathers,\n",
    "  \"newsSource\" : news_sources,\n",
    "  \"episode\": [\"#mainCharacter# goes to the #mcWorkplace# because they work as #mcOccupation#. #interaction#. #interaction#.\"],\n",
    "  \"interaction\" : [\"[interactionCharacter:#character#]#interactionCharacter# went to the #mcWorkplace#. #interactionCharacter# and #mainCharacter# were #relationship#. #interactionCharacter# #performActivity#\"],\n",
    "  \"relationship\" : relationships,\n",
    "  \"performActivity\": activities,\n",
    "  \"setOccupation\" : [\"[mcWorkplace:{}][mcOccupation:{}]\".format(w, o) for o, w in  occupation_workplace],\n",
    "  \"conclusion\" : [\"conclusion\"],\n",
    "  \"event\" : [\"event\"]\n",
    "}"
   ]
  },
  {
   "cell_type": "code",
   "execution_count": 66,
   "metadata": {},
   "outputs": [
    {
     "data": {
      "text/plain": [
       "\"Chris wakes up and picks up the newspaper from the front door. The TV predicted that it's going to be sunny today. Chris is a jolly person. Chris goes to the Bank because they work as Accountant. Mayank went to the Bank. Mayank and Chris were siblings. Mayank threatened Chris. Tom went to the Bank. Tom and Chris were friends. Tom said hey. conclusion\""
      ]
     },
     "execution_count": 66,
     "metadata": {},
     "output_type": "execute_result"
    }
   ],
   "source": [
    "grammar = tracery.Grammar(rules_us)\n",
    "grammar.add_modifiers(base_english)\n",
    "grammar.flatten(\"#origin#\")"
   ]
  },
  {
   "cell_type": "code",
   "execution_count": 1,
   "metadata": {},
   "outputs": [],
   "source": [
    "def pick_with_probability(items_with_probabilities):\n",
    "    probabilties = []\n",
    "    items = []\n",
    "    for item, probability in items_with_probabilities:\n",
    "        items.append(item)\n",
    "        probabilties.append(probability)\n",
    "    import numpy\n",
    "    item_chosen = numpy.random.choice(items, p=probabilties)\n",
    "    return item_chosen"
   ]
  },
  {
   "cell_type": "code",
   "execution_count": 92,
   "metadata": {},
   "outputs": [
    {
     "data": {
      "text/plain": [
       "'B'"
      ]
     },
     "execution_count": 92,
     "metadata": {},
     "output_type": "execute_result"
    }
   ],
   "source": [
    "import numpy\n",
    "numpy.random.choice([\"a\", \"b\", \"c\", \"d\", \"E\", \"f\"], p=[0.1, 0.05, 0.05, 0.2, 0.4, 0.2])\n",
    "pick_with_probability([(\"M\", 0.5), (\"A\", 0.2), ('B', 0.3)])"
   ]
  },
  {
   "cell_type": "code",
   "execution_count": 66,
   "metadata": {},
   "outputs": [
    {
     "data": {
      "text/plain": [
       "True"
      ]
     },
     "execution_count": 66,
     "metadata": {},
     "output_type": "execute_result"
    }
   ],
   "source": [
    "import os\n",
    "os.listdir()\n",
    "\"#mainCharacter# invites Joann Heidebrink to lunch.\" is \"#mainCharacter# invites Joann Heidebrink to lunch.\""
   ]
  },
  {
   "cell_type": "code",
   "execution_count": 1,
   "metadata": {},
   "outputs": [
    {
     "name": "stdout",
     "output_type": "stream",
     "text": [
      "Narrative 1:\n"
     ]
    },
    {
     "ename": "FileNotFoundError",
     "evalue": "[Errno 2] No such file or directory: 'personjsons'",
     "output_type": "error",
     "traceback": [
      "\u001b[0;31m---------------------------------------------------------------------------\u001b[0m",
      "\u001b[0;31mFileNotFoundError\u001b[0m                         Traceback (most recent call last)",
      "\u001b[0;32m<ipython-input-1-f3d199afebc9>\u001b[0m in \u001b[0;36m<module>\u001b[0;34m()\u001b[0m\n\u001b[1;32m    246\u001b[0m     \u001b[0;32mfor\u001b[0m \u001b[0mi\u001b[0m \u001b[0;32min\u001b[0m \u001b[0mrange\u001b[0m\u001b[0;34m(\u001b[0m\u001b[0;36m10\u001b[0m\u001b[0;34m)\u001b[0m\u001b[0;34m:\u001b[0m\u001b[0;34m\u001b[0m\u001b[0m\n\u001b[1;32m    247\u001b[0m         \u001b[0mprint\u001b[0m\u001b[0;34m(\u001b[0m\u001b[0;34m\"Narrative {}:\"\u001b[0m\u001b[0;34m.\u001b[0m \u001b[0mformat\u001b[0m\u001b[0;34m(\u001b[0m\u001b[0mi\u001b[0m\u001b[0;34m+\u001b[0m\u001b[0;36m1\u001b[0m\u001b[0;34m)\u001b[0m\u001b[0;34m)\u001b[0m\u001b[0;34m\u001b[0m\u001b[0m\n\u001b[0;32m--> 248\u001b[0;31m         \u001b[0mgenerated_narrative\u001b[0m \u001b[0;34m=\u001b[0m \u001b[0mgenerate_narrative\u001b[0m\u001b[0;34m(\u001b[0m\u001b[0;34m)\u001b[0m\u001b[0;34m\u001b[0m\u001b[0m\n\u001b[0m\u001b[1;32m    249\u001b[0m         \u001b[0mprint\u001b[0m\u001b[0;34m(\u001b[0m\u001b[0mgenerated_narrative\u001b[0m\u001b[0;34m)\u001b[0m\u001b[0;34m\u001b[0m\u001b[0m\n\u001b[1;32m    250\u001b[0m         \u001b[0msample_file\u001b[0m\u001b[0;34m.\u001b[0m\u001b[0mwrite\u001b[0m\u001b[0;34m(\u001b[0m\u001b[0;34m\"Narrative {}:\\n\"\u001b[0m\u001b[0;34m.\u001b[0m \u001b[0mformat\u001b[0m\u001b[0;34m(\u001b[0m\u001b[0mi\u001b[0m\u001b[0;34m+\u001b[0m\u001b[0;36m1\u001b[0m\u001b[0;34m)\u001b[0m\u001b[0;34m)\u001b[0m\u001b[0;34m\u001b[0m\u001b[0m\n",
      "\u001b[0;32m<ipython-input-1-f3d199afebc9>\u001b[0m in \u001b[0;36mgenerate_narrative\u001b[0;34m()\u001b[0m\n\u001b[1;32m     53\u001b[0m \u001b[0;32mdef\u001b[0m \u001b[0mgenerate_narrative\u001b[0m\u001b[0;34m(\u001b[0m\u001b[0;34m)\u001b[0m\u001b[0;34m:\u001b[0m\u001b[0;34m\u001b[0m\u001b[0m\n\u001b[1;32m     54\u001b[0m     \u001b[0mfiles\u001b[0m \u001b[0;34m=\u001b[0m \u001b[0;34m[\u001b[0m\u001b[0;34m]\u001b[0m\u001b[0;34m\u001b[0m\u001b[0m\n\u001b[0;32m---> 55\u001b[0;31m     \u001b[0;32mfor\u001b[0m \u001b[0mfile\u001b[0m \u001b[0;32min\u001b[0m \u001b[0mos\u001b[0m\u001b[0;34m.\u001b[0m\u001b[0mlistdir\u001b[0m\u001b[0;34m(\u001b[0m\u001b[0;34m\"personjsons\"\u001b[0m\u001b[0;34m)\u001b[0m\u001b[0;34m:\u001b[0m\u001b[0;34m\u001b[0m\u001b[0m\n\u001b[0m\u001b[1;32m     56\u001b[0m         \u001b[0;32mif\u001b[0m \u001b[0mfile\u001b[0m\u001b[0;34m.\u001b[0m\u001b[0mendswith\u001b[0m\u001b[0;34m(\u001b[0m\u001b[0;34m\".json\"\u001b[0m\u001b[0;34m)\u001b[0m\u001b[0;34m:\u001b[0m\u001b[0;34m\u001b[0m\u001b[0m\n\u001b[1;32m     57\u001b[0m             \u001b[0mfiles\u001b[0m\u001b[0;34m.\u001b[0m\u001b[0mappend\u001b[0m\u001b[0;34m(\u001b[0m\u001b[0mos\u001b[0m\u001b[0;34m.\u001b[0m\u001b[0mpath\u001b[0m\u001b[0;34m.\u001b[0m\u001b[0mjoin\u001b[0m\u001b[0;34m(\u001b[0m\u001b[0;34m\"/personjsons\"\u001b[0m\u001b[0;34m,\u001b[0m \u001b[0mfile\u001b[0m\u001b[0;34m)\u001b[0m\u001b[0;34m)\u001b[0m\u001b[0;34m\u001b[0m\u001b[0m\n",
      "\u001b[0;31mFileNotFoundError\u001b[0m: [Errno 2] No such file or directory: 'personjsons'"
     ]
    }
   ],
   "source": [
    "import json\n",
    "import tracery\n",
    "from tracery.modifiers import base_english\n",
    "import numpy\n",
    "import os\n",
    "\n",
    "# Helper function #\n",
    "\n",
    "def pick_with_equal_probability(items):\n",
    "    individual_probability = 1 / len(items)\n",
    "    probabilities_array = [individual_probability] * len(items)\n",
    "    item_chosen = numpy.random.choice(items, p=probabilities_array)\n",
    "    return item_chosen\n",
    "    \n",
    "def pick_with_probability(items_with_probabilities):\n",
    "    probabilties = []\n",
    "    items = []\n",
    "    for item, probability in items_with_probabilities:\n",
    "        items.append(item)\n",
    "        probabilties.append(probability)\n",
    "    item_chosen = numpy.random.choice(items, p=probabilties)\n",
    "    return item_chosen\n",
    "\n",
    "def event_occurs(event_probability):\n",
    "    choice = numpy.random.choice([True, False], p=[event_probability, 1 - event_probability])\n",
    "    return choice\n",
    "\n",
    "def getDemoStoryLunchEventProbabilities(high_e, low_e, high_o, low_o, notEnemies):\n",
    "    # invite_to_lunch_p = 0.7 smile_and_wave_p = 0.2 ignore_p = 0.075 stare_down_p = 0.025\n",
    "    if notEnemies:\n",
    "        if high_e and high_o:\n",
    "            return [0.7, 0.2, 0.075, 0.025]\n",
    "        if high_e and low_o:\n",
    "            return [0.5, 0.4, 0.075, 0.025]\n",
    "        if low_e and high_o:\n",
    "            return [0.2, 0.7, 0.075, 0.025]\n",
    "        if low_e and low_o:\n",
    "            return [0.1, 0.1, 0.75, 0.05]\n",
    "        # Default return value\n",
    "        return [0.25, 0.65, 0.05, 0.05]\n",
    "    else:\n",
    "        if high_e and high_o:\n",
    "            return [0.025, 0.075, 0.2, 0.7]\n",
    "        if high_e and low_o:\n",
    "            return [0.075, 0.025, 0.2, 0.7]\n",
    "        if low_e and high_o:\n",
    "            return [0.025, 0.075, 0.7, 0.2]\n",
    "        if low_e and low_o:\n",
    "            return [0.075, 0.025, 0.7, 0.2]\n",
    "        # Default return value\n",
    "        return [0.05, 0.05, 0.45, 0.45]\n",
    "\n",
    "'''\n",
    "# Currently commented out because Python kept crying about positional argument errors for notEnemies\n",
    "# The workaround has embedded this logic directly into the conditional for lunch episodes\n",
    "\n",
    "def getDemoStoryLunchEpisodeProbabilities(high_e, low_e, high_o, low,_o, notEnemies):\n",
    "    # enjoys_lunch_p = 0.2, know_better_p = 0.5 stares_down_p = 0.05 sits_quietly_p = 0.25\n",
    "    if notEnemies:\n",
    "        if high_e and high_o:\n",
    "            return [0.2, 0.7, 0.075, 0.025]\n",
    "        if high_e and low_o:\n",
    "            return [0.6, 0.3, 0.075, 0.025]\n",
    "        if low_e and high_o:\n",
    "            return [0.4, 0.3, 0.05, 0.25]\n",
    "        if low_e and low_o:\n",
    "            return [0.5, 0.2, 0.05, 0.25]\n",
    "        # Default return value\n",
    "        return [0.45, 0.45, 0.05, 0.05]\n",
    "    else:\n",
    "        if high_e and high_o:\n",
    "            return [0.025, 0.075, 0.7, 0.2]\n",
    "        if high_e and low_o:\n",
    "            return [0.075, 0.025, 0.2, 0.7]\n",
    "        if low_e and high_o:\n",
    "            return [0.025, 0.050, 0.025, 0.9]\n",
    "        if low_e and low_o:\n",
    "            return [0.025, 0.025, 0.50, 0.9]\n",
    "        # Default return value\n",
    "        return [0.05, 0.05, 0.40, 0.50]\n",
    "'''\n",
    "\n",
    "###################\n",
    "\n",
    "# Preprocess - Tracery Pipeline #\n",
    "\n",
    "def generate_narrative():\n",
    "    files = []\n",
    "    for file in os.listdir(\"personjsons\"):\n",
    "        if file.endswith(\".json\"):\n",
    "            files.append(os.path.join(\"/personjsons\", file))\n",
    "    # Randomly pick a character and load JSON file for the initial character in the story\n",
    "    file_picked = pick_with_equal_probability(files)\n",
    "    character_file = \"./{}\".format(file_picked)\n",
    "\n",
    "    with open(character_file) as json_data:\n",
    "        character_data_json = json.load(json_data)\n",
    "\n",
    "    # Prints data in JSON in readable format\n",
    "    # print(json.dumps(character_data_json, indent=4))\n",
    "\n",
    "    # Data extraction from character to use in story template\n",
    "    mcFullname = character_data_json[\"full_name\"]\n",
    "    mcFirstname = character_data_json[\"first_name\"]\n",
    "    mcKids = character_data_json[\"kids\"]\n",
    "\n",
    "    mcCoworkers = character_data_json[\"coworkers\"]\n",
    "    mcFriends = character_data_json[\"friends\"]\n",
    "    mcEnemies = character_data_json[\"enemies\"]\n",
    "    mcSpouse = character_data_json[\"spouse\"]\n",
    "\n",
    "    mcCompany = character_data_json[\"company\"]\n",
    "    mcOccupation = character_data_json[\"occupation\"]\n",
    "    \n",
    "    mcHighExtroversion = character_data_json[\"high_e\"]\n",
    "    mcLowExtroversion = character_data_json[\"low_e\"]\n",
    "    \n",
    "    mcHighOpentoExperience = character_data_json[\"high_o\"]\n",
    "    mcLowOpentoExperience = character_data_json[\"low_o\"]\n",
    "    \n",
    "    ### TEMPORARY FIX FOR MISSING DATA ###\n",
    "    if not mcCoworkers:\n",
    "        return \"No coworkers.\"\n",
    "    \n",
    "    # Derive more knowledge about relationship with coworkers\n",
    "    mcFriendlyCoworkers = []\n",
    "    mcEnemyCoworkers = []\n",
    "    mcNeutralCoworkers = []\n",
    "    for c in mcCoworkers:\n",
    "        if c in mcFriends:\n",
    "            mcFriendlyCoworkers.append(c)\n",
    "    #         print(c, \"Friendly Worker\")\n",
    "        elif c in mcEnemies:\n",
    "            mcEnemyCoworkers.append(c)\n",
    "    #         print(c, \"Enemy Worker\")\n",
    "        else:\n",
    "            mcNeutralCoworkers.append(c)\n",
    "    #         print(c, \"Neutral Worker\")\n",
    "\n",
    "\n",
    "    # Story branching based on randomisation or previously engineered knowledge in story graph\n",
    "\n",
    "    # Demo Story graph 1\n",
    "\n",
    "    # 0) Choose probabilities for certain events:\n",
    "\n",
    "    late_probability = 0.3\n",
    "    traffic_probability = 0.3 \n",
    "    run_into_coworker_probability = 0.7\n",
    "\n",
    "    \n",
    "    \n",
    "    # 1) Create Intro\n",
    "    # Choose intro based on whether mc has kids\n",
    "    if mcKids:\n",
    "        intro = \"#mainCharacterFullname# wakes up and feeds their kids. After taking care of the kids, #mainCharacter# #morningActivity#.\"\n",
    "    else:\n",
    "        s = mcFullname\n",
    "        intro = \"#mainCharacterFullname# wakes up and #morningActivity#.\"\n",
    "\n",
    "    # Add Weather description to intro\n",
    "    intro += \"#weatherDescription#\"\n",
    "\n",
    "    # Add character description to intro\n",
    "    intro += \"#mainCharacterDescription#\"\n",
    "\n",
    "    intro += \"#mainCharacter# gets ready for work.\"\n",
    "\n",
    "    # Randomize whether mc is late for work and let mc leave for work\n",
    "    if event_occurs(late_probability):\n",
    "        intro += \"#mainCharacter# realizes they are late for work. They rush to #mcCompany# where they work as a #mcOccupation#.\"\n",
    "    else:\n",
    "        intro += \"#mainCharacter# looks at the clock and realizes they are on time for work.\"\n",
    "        if mcSpouse != \"None\":\n",
    "            intro += \"#mainCharacter# says goodbye to their spouse, #mcSpouse#.\"\n",
    "        if mcKids:\n",
    "            intro += \"#mainCharacter# says goodbye to their kids.\"\n",
    "        intro += \"#mainCharacter# heads out the door to go to #mcCompany# where they work as a #mcOccupation#.\"\n",
    "\n",
    "    # Simulate traffic\n",
    "    if event_occurs(traffic_probability):\n",
    "        intro += \"#mainCharacter# arrives to work late\"\n",
    "    else:\n",
    "        intro += \"#mainCharacter# arrives to work on time.\"\n",
    "\n",
    "    episode = \"#mainCharacter# works for a few hours and then takes a lunch break.\"\n",
    "\n",
    "\n",
    "    # Probabilities could be based on personality traits\n",
    "    if event_occurs(run_into_coworker_probability):\n",
    "        coworker = pick_with_equal_probability(mcCoworkers)\n",
    "        if coworker in mcFriendlyCoworkers:\n",
    "            demo_lunch_p = getDemoStoryLunchEventProbabilities(mcHighExtroversion, mcLowExtroversion, mcHighOpentoExperience, mcLowOpentoExperience, True)\n",
    "        elif coworker in mcEnemyCoworkers:\n",
    "            demo_lunch_p = getDemoStoryLunchEventProbabilities(mcHighExtroversion, mcLowExtroversion, mcHighOpentoExperience, mcLowOpentoExperience, False)\n",
    "        else:\n",
    "            demo_lunch_p = getDemoStoryLunchEventProbabilities(mcHighExtroversion, mcLowExtroversion, mcHighOpentoExperience, mcLowOpentoExperience, True)\n",
    "\n",
    "        print(mcFullname)\n",
    "        print(demo_lunch_p)\n",
    "        invite_to_lunch_p = demo_lunch_p[0]\n",
    "        smile_and_wave_p = demo_lunch_p[1]\n",
    "        ignore_p = demo_lunch_p[2]\n",
    "        stare_down_p = demo_lunch_p[3]\n",
    "            \n",
    "        invite_episode = \"#mainCharacter# invites {} to lunch.\".format(coworker)\n",
    "        smile_episode = \"#mainCharacter# smiles and waves at {}.\".format(coworker)\n",
    "        ignore_episode = \"#mainCharacter# ignores {} and walks past them.\".format(coworker)\n",
    "        stares_down_episode = \"#mainCharacter# stares {} down.\".format(coworker)\n",
    "\n",
    "        episode_chosen = pick_with_probability([(invite_episode, invite_to_lunch_p), (smile_episode, smile_and_wave_p), (ignore_episode, ignore_p), (stares_down_episode, stare_down_p)])\n",
    "        episode += episode_chosen\n",
    "        \n",
    "        if episode_chosen == invite_episode:\n",
    "            if coworker in mcFriendlyCoworkers:\n",
    "                notEnemies = True\n",
    "            elif coworker in mcEnemyCoworkers:\n",
    "                notEnemies = False\n",
    "            else:\n",
    "                notEnemies = True\n",
    "                \n",
    "            high_e = mcHighExtroversion\n",
    "            low_e = mcLowExtroversion\n",
    "            high_o = mcHighOpentoExperience\n",
    "            low_o = mcLowOpentoExperience\n",
    "            \n",
    "            if notEnemies:\n",
    "                if high_e and high_o:\n",
    "                    demo_lunch_episode_p = [0.2, 0.7, 0.075, 0.025]\n",
    "                elif high_e and low_o:\n",
    "                    demo_lunch_episode_p = [0.6, 0.3, 0.075, 0.025]\n",
    "                elif low_e and high_o:\n",
    "                    demo_lunch_episode_p = [0.4, 0.3, 0.05, 0.25]\n",
    "                elif low_e and low_o:\n",
    "                    demo_lunch_episode_p = [0.5, 0.2, 0.05, 0.25]\n",
    "                else:\n",
    "                    # Default\n",
    "                    demo_lunch_episode_p = [0.45, 0.45, 0.05, 0.05]\n",
    "            else:\n",
    "                if high_e and high_o:\n",
    "                    demo_lunch_episode_p = [0.025, 0.075, 0.7, 0.2]\n",
    "                elif high_e and low_o:\n",
    "                    demo_lunch_episode_p = [0.075, 0.025, 0.2, 0.7]\n",
    "                elif low_e and high_o:\n",
    "                    demo_lunch_episode_p = [0.025, 0.050, 0.025, 0.9]\n",
    "                elif low_e and low_o:\n",
    "                    demo_lunch_episode_p = [0.025, 0.025, 0.50, 0.9]\n",
    "                else:\n",
    "                    # Default\n",
    "                    demo_lunch_episode_p = [0.05, 0.05, 0.40, 0.50]\n",
    "\n",
    "            #demo_lunch_episode_p = getDemoStoryLunchEpisodeProbabilities(mcHighExtroversion, mcLowExtroversion, mcHighOpentoExperience, mcLowOpentoExperience, True)\n",
    "            print(demo_lunch_episode_p)\n",
    "            enjoys_lunch_p = demo_lunch_episode_p[0]\n",
    "            know_better_p = demo_lunch_episode_p[1]\n",
    "            stares_down_p = demo_lunch_episode_p[2]\n",
    "            sits_quietly_p = demo_lunch_episode_p[3]\n",
    "\n",
    "            enjoys_lunch_episode = \"#mainCharacter# enjoys lunch with {}.\".format(coworker)\n",
    "            know_better_episode = \"#mainCharacter# talks to {} and gets to know them better.\".format(coworker)\n",
    "            stares_down_episode = \"#mainCharacter# stares {} down during the entire lunch.\".format(coworker)\n",
    "            sits_quietly_episode = \"#mainCharacter# sits quietly through the entire lunch.\"\n",
    "\n",
    "            episode_chosen = pick_with_probability([(enjoys_lunch_episode, enjoys_lunch_p), (know_better_episode, know_better_p), (sits_quietly_episode, sits_quietly_p), (stares_down_episode, stares_down_p)])\n",
    "            episode += episode_chosen\n",
    "        else:\n",
    "#             print(episode_chosen, invite_episode, type(episode_chosen), type(invite_episode),episode_chosen is invite_episode)\n",
    "            episode += \"#mainCharacter# proceeds to get lunch on their own.\"\n",
    "\n",
    "    conclusion = \"#mainCharacter# returns back home and finshes up their day.\"\n",
    "        \n",
    "    # Grammar creation\n",
    "    characters = mcFriends + mcEnemies\n",
    "    character_adjectives = [\"a happy\", \"a jolly\", \"a kind\", \"an antisocial\", \"a reclusive\"]\n",
    "    morning_activities = [\"brushes their teeth\", \"picks up the newspaper from the front door\", \"pours themself a cup of coffee\", \"makes breakfast\"]\n",
    "    weathers = [\"rainy\", \"sunny\", \"cloudy\", \"warm\", \"cold\", \"hot\", \"freezing\"]\n",
    "    news_sources = [\"TV\", \"newspaper\", \"weather forecast\"]\n",
    "    activities = [\"said hey\", \"ignored #mainCharacter#\", \"greeted #mainCharacter#\", \"threatened #mainCharacter#\", \"asked #mainCharacter# out for lunch\"]\n",
    "    relationships = [\"friends\", \"foes\", \"partners\", \"rivals\", \"strangers\", \"colleagues\", \"siblings\"]\n",
    "    occupation_workplace = [(\"Barber\", \"Hair Salon\"), (\"Mechanic\", \"Garage\"), (\"Accountant\", \"Bank\"), (\"Professor\", \"College\"), (\"Chef\", \"Restaurant\")]\n",
    "    rules_us = {\n",
    "      \"origin\": [\"#intro# #episode# #conclusion#\"],\n",
    "      \"mainCharacter\": [mcFirstname],\n",
    "      \"mainCharacterFullname\" : [mcFullname],\n",
    "      \"mcSpouse\" : mcSpouse,\n",
    "      \"mcCompany\": mcCompany,\n",
    "      \"mcOccupation\" : mcOccupation,\n",
    "      \"mcKids\" : mcKids,\n",
    "      \"mcCoworkers\": mcCoworkers,\n",
    "      \"character\": characters,\n",
    "      \"intro\": [intro],\n",
    "      \"mainCharacterDescription\": [\"#mainCharacter# is #adjective# person.\"],\n",
    "      \"adjective\" : character_adjectives,\n",
    "      \"morningActivity\" : morning_activities,\n",
    "      \"weatherDescription\" :[\"The #newsSource# predicted that it's going to be #weather# today.\"],\n",
    "      \"weather\" : weathers,\n",
    "      \"newsSource\" : news_sources,\n",
    "      \"episode\": [episode],\n",
    "      \"conclusion\" : [conclusion]\n",
    "    }\n",
    "\n",
    "    grammar = tracery.Grammar(rules_us)\n",
    "    grammar.add_modifiers(base_english)\n",
    "    generated_narrative = grammar.flatten(\"#origin#\")\n",
    "    if generated_narrative is None:\n",
    "        print(json.dumps(character_data_json, indent=4))\n",
    "    return generated_narrative\n",
    "\n",
    "with open(\"sample_generation.txt\", \"w\") as sample_file:\n",
    "    for i in range(193):\n",
    "        print(\"Narrative {}:\". format(i+1))\n",
    "        generated_narrative = generate_narrative()\n",
    "        print(generated_narrative)\n",
    "        sample_file.write(\"Narrative {}:\\n\". format(i+1))\n",
    "        sample_file.write(generated_narrative + \"\\n\")"
   ]
  },
  {
   "cell_type": "code",
   "execution_count": 55,
   "metadata": {},
   "outputs": [
    {
     "name": "stdout",
     "output_type": "stream",
     "text": [
      "<class 'str'> None\n"
     ]
    }
   ],
   "source": [
    "with open(\"personjsons/FrankRynn.json\") as f:\n",
    "    c = json.load(f)\n",
    "    print(type(c[\"spouse\"]), c[\"spouse\"])"
   ]
  },
  {
   "cell_type": "code",
   "execution_count": 6,
   "metadata": {
    "scrolled": true
   },
   "outputs": [
    {
     "name": "stdout",
     "output_type": "stream",
     "text": [
      "['m', 'a', 'm']\n"
     ]
    }
   ],
   "source": [
    "import re\n",
    "import networkx as nx\n",
    "import matplotlib.pyplot as plt\n",
    "\n",
    "pat = re.compile(\"#([a-zA-Z0-9]*)#\")\n",
    "print(re.findall(pat, \"#m# #a# #m#\"))\n",
    "\n",
    "def parse_pcfg(productions, parse_tree, start=\"origin\"):\n",
    "    # Probabilistically choose a production\n",
    "    parse_tree.add_node(start)\n",
    "    choice =  pick_with_probability(productions[start])\n",
    "    # Search for all nonterminals within that production\n",
    "    syntax_pattern = re.compile(\"#([a-zA-Z0-9]*)#\")\n",
    "    nonterminals = re.findall(syntax_pattern, choice)\n",
    "    expansions = []\n",
    "    # Recursively expand each nonterminal\n",
    "    for nonterminal in nonterminals:\n",
    "        parse_tree.add_node(nonterminal)\n",
    "        parse_tree.add_edge(start, nonterminal)\n",
    "        if nonterminal in productions:\n",
    "            expansions.append( (nonterminal, parse_pcfg(productions, parse_tree, start=nonterminal)) )\n",
    "        else:\n",
    "            print(\"Nonterminal {} not in productions\".format(nonterminal))\n",
    "    # Replace the tags with their expansions in the original string\n",
    "    for nonterminal, expansion in expansions:\n",
    "        choice = choice.replace(\"#\" + nonterminal + \"#\", expansion, 1)\n",
    "    return choice"
   ]
  },
  {
   "cell_type": "code",
   "execution_count": 3,
   "metadata": {},
   "outputs": [
    {
     "ename": "NameError",
     "evalue": "name 'nx' is not defined",
     "output_type": "error",
     "traceback": [
      "\u001b[1;31m---------------------------------------------------------------------------\u001b[0m",
      "\u001b[1;31mNameError\u001b[0m                                 Traceback (most recent call last)",
      "\u001b[1;32m<ipython-input-3-1f6dbb12a105>\u001b[0m in \u001b[0;36m<module>\u001b[1;34m()\u001b[0m\n\u001b[0;32m     13\u001b[0m       \u001b[1;34m\"conclusion2\"\u001b[0m \u001b[1;33m:\u001b[0m \u001b[1;33m[\u001b[0m\u001b[1;33m(\u001b[0m\u001b[1;34m\"God declared world peace.\"\u001b[0m\u001b[1;33m,\u001b[0m \u001b[1;36m1\u001b[0m\u001b[1;33m)\u001b[0m\u001b[1;33m]\u001b[0m\u001b[1;33m\u001b[0m\u001b[0m\n\u001b[0;32m     14\u001b[0m }\n\u001b[1;32m---> 15\u001b[1;33m \u001b[0mparse_tree\u001b[0m \u001b[1;33m=\u001b[0m \u001b[0mnx\u001b[0m\u001b[1;33m.\u001b[0m\u001b[0mGraph\u001b[0m\u001b[1;33m(\u001b[0m\u001b[1;33m)\u001b[0m\u001b[1;33m\u001b[0m\u001b[0m\n\u001b[0m\u001b[0;32m     16\u001b[0m \u001b[0mprint\u001b[0m\u001b[1;33m(\u001b[0m\u001b[0mparse_pcfg\u001b[0m\u001b[1;33m(\u001b[0m\u001b[0mrules_us\u001b[0m\u001b[1;33m,\u001b[0m \u001b[0mparse_tree\u001b[0m\u001b[1;33m)\u001b[0m\u001b[1;33m)\u001b[0m\u001b[1;33m\u001b[0m\u001b[0m\n\u001b[0;32m     17\u001b[0m options = {\n",
      "\u001b[1;31mNameError\u001b[0m: name 'nx' is not defined"
     ]
    }
   ],
   "source": [
    "DEBUG = True\n",
    "rules_us = {\n",
    "      \"origin\": [(\"#intro# #episode# #conclusion#\", 1)],\n",
    "#       \"loop\" : [(\"#origin#\", 0.9 ), (\"loop ends.\", 0.1)],\n",
    "      \"intro\" : [(\"#event1#\", 0.3), (\"#event2#\", 0.6), (\"Good morning!\", 0.1)],\n",
    "      \"event1\" :[(\"Sun set in the north.\", 1)],\n",
    "      \"event2\" :[(\"Grass is purple.\", 1)],\n",
    "      \"episode\" : [(\"#episode1#\", 0.5), (\"#episode2#\", 0.5)],\n",
    "      \"episode1\" : [(\"Earth imploded to form a blackhole.\", 1)],\n",
    "      \"episode2\" : [(\"America got government healthcare.\", 1)],\n",
    "      \"conclusion\" : [(\"#conclusion1#\", 0.7), (\"#conclusion2#\", 0.3)],\n",
    "      \"conclusion1\" : [(\"World ended.\", 1)],\n",
    "      \"conclusion2\" : [(\"God declared world peace.\", 1)]\n",
    "}\n",
    "parse_tree = nx.Graph()\n",
    "print(parse_pcfg(rules_us, parse_tree))\n",
    "options = {\n",
    "      'node_color': 'green',\n",
    "      'node_size': 4000,\n",
    "      'width': 3\n",
    "}\n",
    "if DEBUG:\n",
    "    nx.draw(parse_tree,with_labels=True, **options)\n",
    "#     import holoviews as hv\n",
    "#     %%opts Graph [tools=['hover']]\n",
    "#     G = nx.karate_club_graph()\n",
    "#     hv.Graph.from_networkx(G, nx.layout.circular_layout).redim.range(**padding)"
   ]
  },
  {
   "cell_type": "code",
   "execution_count": 133,
   "metadata": {},
   "outputs": [
    {
     "data": {
      "text/plain": [
       "'a #m# #a#'"
      ]
     },
     "execution_count": 133,
     "metadata": {},
     "output_type": "execute_result"
    }
   ],
   "source": [
    "\"#m# #m# #a#\".replace(\"#m#\", \"a\", 1)"
   ]
  },
  {
   "cell_type": "code",
   "execution_count": 8,
   "metadata": {},
   "outputs": [
    {
     "data": {
      "image/png": "[encoded data removed]",
      "text/plain": [
       "<Figure size 432x288 with 1 Axes>"
      ]
     },
     "metadata": {},
     "output_type": "display_data"
    }
   ],
   "source": [
    "import networkx as nx\n",
    "import matplotlib.pyplot as plt\n",
    "\n",
    "def plot(input_graph):\n",
    "    app = Viewer(input_graph)\n",
    "    app.mainloop()\n",
    "\n",
    "parse_tree = nx.Graph()\n",
    "parse_tree.add_node(1)\n",
    "parse_tree.add_node(2)\n",
    "parse_tree.add_edge(1, 2)\n",
    "nx.draw(parse_tree,with_labels=True)"
   ]
  },
  {
   "cell_type": "code",
   "execution_count": 2,
   "metadata": {},
   "outputs": [],
   "source": [
    "import matplotlib"
   ]
  },
  {
   "cell_type": "code",
   "execution_count": null,
   "metadata": {},
   "outputs": [],
   "source": []
  }
 ],
 "metadata": {
  "kernelspec": {
   "display_name": "Python 3",
   "language": "python",
   "name": "python3"
  },
  "language_info": {
   "codemirror_mode": {
    "name": "ipython",
    "version": 3
   },
   "file_extension": ".py",
   "mimetype": "text/x-python",
   "name": "python",
   "nbconvert_exporter": "python",
   "pygments_lexer": "ipython3",
   "version": "3.6.5"
  }
 },
 "nbformat": 4,
 "nbformat_minor": 2
}
